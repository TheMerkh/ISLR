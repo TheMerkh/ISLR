{
 "cells": [
  {
   "cell_type": "markdown",
   "id": "020a0b07",
   "metadata": {},
   "source": [
    "In this problem we will investigate the t-statistic for the null hypoth\u0002esis H0 : β = 0 in simple linear regression without an intercept. To\n",
    "begin, we generate a predictor x and a response y as follows.\n",
    "> set.seed (1)\n",
    "\n",
    "> x <- rnorm (100)\n",
    "\n",
    "> y <- 2 * x + rnorm (100)"
   ]
  },
  {
   "cell_type": "code",
   "execution_count": 19,
   "id": "92591692",
   "metadata": {},
   "outputs": [],
   "source": [
    "import numpy as np\n",
    "import statsmodels.api as sm\n",
    "\n",
    "\n",
    "np.random.seed(1)\n",
    "x = np.random.randn(100)\n",
    "y = 2 * x + np.random.randn(100)"
   ]
  },
  {
   "cell_type": "markdown",
   "id": "0c2ecab3",
   "metadata": {},
   "source": [
    "Q: Perform a simple linear regression of y onto x, without an in\u0002tercept. Report the coefficient estimate βˆ, the standard error of this coefficient estimate, and the t-statistic and p-value associ\u0002ated with the null hypothesis H0 : β = 0. Comment on these results. (You can perform regression without an intercept using the command lm(y∼x+0).)"
   ]
  },
  {
   "cell_type": "code",
   "execution_count": 20,
   "id": "32ef4054",
   "metadata": {},
   "outputs": [
    {
     "name": "stdout",
     "output_type": "stream",
     "text": [
      "                                 OLS Regression Results                                \n",
      "=======================================================================================\n",
      "Dep. Variable:                      y   R-squared (uncentered):                   0.798\n",
      "Model:                            OLS   Adj. R-squared (uncentered):              0.796\n",
      "Method:                 Least Squares   F-statistic:                              391.7\n",
      "Date:                Sat, 12 Aug 2023   Prob (F-statistic):                    3.46e-36\n",
      "Time:                        19:10:54   Log-Likelihood:                         -135.67\n",
      "No. Observations:                 100   AIC:                                      273.3\n",
      "Df Residuals:                      99   BIC:                                      275.9\n",
      "Df Model:                           1                                                  \n",
      "Covariance Type:            nonrobust                                                  \n",
      "==============================================================================\n",
      "                 coef    std err          t      P>|t|      [0.025      0.975]\n",
      "------------------------------------------------------------------------------\n",
      "x1             2.1067      0.106     19.792      0.000       1.896       2.318\n",
      "==============================================================================\n",
      "Omnibus:                        0.880   Durbin-Watson:                   2.106\n",
      "Prob(Omnibus):                  0.644   Jarque-Bera (JB):                0.554\n",
      "Skew:                          -0.172   Prob(JB):                        0.758\n",
      "Kurtosis:                       3.119   Cond. No.                         1.00\n",
      "==============================================================================\n",
      "\n",
      "Notes:\n",
      "[1] R² is computed without centering (uncentered) since the model does not contain a constant.\n",
      "[2] Standard Errors assume that the covariance matrix of the errors is correctly specified.\n"
     ]
    }
   ],
   "source": [
    "#A:\n",
    "\n",
    "lm_1 = sm.OLS(y,x).fit()\n",
    "\n",
    "print(lm_1.summary())"
   ]
  },
  {
   "cell_type": "markdown",
   "id": "a6b37a06",
   "metadata": {},
   "source": [
    "Q:  Now perform a simple linear regression of x onto y without an intercept, and report the coefficient estimate, its standard error, and the corresponding t-statistic and p-values associated with the null hypothesis H0 : β = 0. Comment on these results."
   ]
  },
  {
   "cell_type": "code",
   "execution_count": 21,
   "id": "7ca6a931",
   "metadata": {},
   "outputs": [
    {
     "name": "stdout",
     "output_type": "stream",
     "text": [
      "                                 OLS Regression Results                                \n",
      "=======================================================================================\n",
      "Dep. Variable:                      y   R-squared (uncentered):                   0.798\n",
      "Model:                            OLS   Adj. R-squared (uncentered):              0.796\n",
      "Method:                 Least Squares   F-statistic:                              391.7\n",
      "Date:                Sat, 12 Aug 2023   Prob (F-statistic):                    3.46e-36\n",
      "Time:                        19:10:56   Log-Likelihood:                         -49.891\n",
      "No. Observations:                 100   AIC:                                      101.8\n",
      "Df Residuals:                      99   BIC:                                      104.4\n",
      "Df Model:                           1                                                  \n",
      "Covariance Type:            nonrobust                                                  \n",
      "==============================================================================\n",
      "                 coef    std err          t      P>|t|      [0.025      0.975]\n",
      "------------------------------------------------------------------------------\n",
      "x1             0.3789      0.019     19.792      0.000       0.341       0.417\n",
      "==============================================================================\n",
      "Omnibus:                        0.476   Durbin-Watson:                   2.166\n",
      "Prob(Omnibus):                  0.788   Jarque-Bera (JB):                0.631\n",
      "Skew:                           0.115   Prob(JB):                        0.729\n",
      "Kurtosis:                       2.685   Cond. No.                         1.00\n",
      "==============================================================================\n",
      "\n",
      "Notes:\n",
      "[1] R² is computed without centering (uncentered) since the model does not contain a constant.\n",
      "[2] Standard Errors assume that the covariance matrix of the errors is correctly specified.\n"
     ]
    }
   ],
   "source": [
    "x, y = y,x\n",
    "\n",
    "lm_2 = sm.OLS(y,x).fit()\n",
    "\n",
    "\n",
    "\n",
    "print(lm_2.summary())"
   ]
  },
  {
   "cell_type": "markdown",
   "id": "7682cd97",
   "metadata": {},
   "source": [
    "A: In both models we have the same T-statistic, but the parameter estimates and their standard error estimates are different, "
   ]
  }
 ],
 "metadata": {
  "kernelspec": {
   "display_name": "Python 3 (ipykernel)",
   "language": "python",
   "name": "python3"
  },
  "language_info": {
   "codemirror_mode": {
    "name": "ipython",
    "version": 3
   },
   "file_extension": ".py",
   "mimetype": "text/x-python",
   "name": "python",
   "nbconvert_exporter": "python",
   "pygments_lexer": "ipython3",
   "version": "3.10.9"
  }
 },
 "nbformat": 4,
 "nbformat_minor": 5
}
