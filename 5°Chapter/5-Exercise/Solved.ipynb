{
 "cells": [
  {
   "cell_type": "code",
   "execution_count": 1,
   "id": "ff442380",
   "metadata": {},
   "outputs": [
    {
     "data": {
      "text/html": [
       "<div>\n",
       "<style scoped>\n",
       "    .dataframe tbody tr th:only-of-type {\n",
       "        vertical-align: middle;\n",
       "    }\n",
       "\n",
       "    .dataframe tbody tr th {\n",
       "        vertical-align: top;\n",
       "    }\n",
       "\n",
       "    .dataframe thead th {\n",
       "        text-align: right;\n",
       "    }\n",
       "</style>\n",
       "<table border=\"1\" class=\"dataframe\">\n",
       "  <thead>\n",
       "    <tr style=\"text-align: right;\">\n",
       "      <th></th>\n",
       "      <th>Unnamed: 0</th>\n",
       "      <th>default</th>\n",
       "      <th>student</th>\n",
       "      <th>balance</th>\n",
       "      <th>income</th>\n",
       "    </tr>\n",
       "  </thead>\n",
       "  <tbody>\n",
       "    <tr>\n",
       "      <th>9953</th>\n",
       "      <td>9954</td>\n",
       "      <td>No</td>\n",
       "      <td>Yes</td>\n",
       "      <td>776.544280</td>\n",
       "      <td>14229.728124</td>\n",
       "    </tr>\n",
       "    <tr>\n",
       "      <th>3850</th>\n",
       "      <td>3851</td>\n",
       "      <td>No</td>\n",
       "      <td>No</td>\n",
       "      <td>1014.599104</td>\n",
       "      <td>51438.710199</td>\n",
       "    </tr>\n",
       "    <tr>\n",
       "      <th>4962</th>\n",
       "      <td>4963</td>\n",
       "      <td>No</td>\n",
       "      <td>No</td>\n",
       "      <td>681.693576</td>\n",
       "      <td>33327.113035</td>\n",
       "    </tr>\n",
       "    <tr>\n",
       "      <th>3886</th>\n",
       "      <td>3887</td>\n",
       "      <td>No</td>\n",
       "      <td>Yes</td>\n",
       "      <td>969.898685</td>\n",
       "      <td>17940.119127</td>\n",
       "    </tr>\n",
       "    <tr>\n",
       "      <th>5437</th>\n",
       "      <td>5438</td>\n",
       "      <td>No</td>\n",
       "      <td>Yes</td>\n",
       "      <td>1577.083581</td>\n",
       "      <td>15230.820600</td>\n",
       "    </tr>\n",
       "    <tr>\n",
       "      <th>...</th>\n",
       "      <td>...</td>\n",
       "      <td>...</td>\n",
       "      <td>...</td>\n",
       "      <td>...</td>\n",
       "      <td>...</td>\n",
       "    </tr>\n",
       "    <tr>\n",
       "      <th>2895</th>\n",
       "      <td>2896</td>\n",
       "      <td>No</td>\n",
       "      <td>Yes</td>\n",
       "      <td>1270.092810</td>\n",
       "      <td>16809.006452</td>\n",
       "    </tr>\n",
       "    <tr>\n",
       "      <th>7813</th>\n",
       "      <td>7814</td>\n",
       "      <td>Yes</td>\n",
       "      <td>No</td>\n",
       "      <td>1598.020831</td>\n",
       "      <td>39163.361056</td>\n",
       "    </tr>\n",
       "    <tr>\n",
       "      <th>905</th>\n",
       "      <td>906</td>\n",
       "      <td>No</td>\n",
       "      <td>No</td>\n",
       "      <td>1234.476479</td>\n",
       "      <td>31313.374575</td>\n",
       "    </tr>\n",
       "    <tr>\n",
       "      <th>5192</th>\n",
       "      <td>5193</td>\n",
       "      <td>No</td>\n",
       "      <td>No</td>\n",
       "      <td>0.000000</td>\n",
       "      <td>29322.631394</td>\n",
       "    </tr>\n",
       "    <tr>\n",
       "      <th>235</th>\n",
       "      <td>236</td>\n",
       "      <td>No</td>\n",
       "      <td>No</td>\n",
       "      <td>964.820253</td>\n",
       "      <td>34390.746035</td>\n",
       "    </tr>\n",
       "  </tbody>\n",
       "</table>\n",
       "<p>10000 rows × 5 columns</p>\n",
       "</div>"
      ],
      "text/plain": [
       "      Unnamed: 0 default student      balance        income\n",
       "9953        9954      No     Yes   776.544280  14229.728124\n",
       "3850        3851      No      No  1014.599104  51438.710199\n",
       "4962        4963      No      No   681.693576  33327.113035\n",
       "3886        3887      No     Yes   969.898685  17940.119127\n",
       "5437        5438      No     Yes  1577.083581  15230.820600\n",
       "...          ...     ...     ...          ...           ...\n",
       "2895        2896      No     Yes  1270.092810  16809.006452\n",
       "7813        7814     Yes      No  1598.020831  39163.361056\n",
       "905          906      No      No  1234.476479  31313.374575\n",
       "5192        5193      No      No     0.000000  29322.631394\n",
       "235          236      No      No   964.820253  34390.746035\n",
       "\n",
       "[10000 rows x 5 columns]"
      ]
     },
     "execution_count": 1,
     "metadata": {},
     "output_type": "execute_result"
    }
   ],
   "source": [
    "import pandas as pd\n",
    "import statsmodels.api as sm\n",
    "import numpy as np\n",
    "from sklearn.linear_model import LogisticRegression\n",
    "from sklearn.model_selection import train_test_split\n",
    "\n",
    "df  = pd.read_csv(\"Default.csv\")\n",
    "\n",
    "df = df.sample(frac=1, random_state=1)\n",
    "\n",
    "df"
   ]
  },
  {
   "cell_type": "markdown",
   "id": "3295500e",
   "metadata": {},
   "source": [
    "Q: Fit a logistic regression model that uses income and balance to predict default."
   ]
  },
  {
   "cell_type": "code",
   "execution_count": 2,
   "id": "cb8eef35",
   "metadata": {
    "scrolled": false
   },
   "outputs": [
    {
     "name": "stdout",
     "output_type": "stream",
     "text": [
      "Optimization terminated successfully.\n",
      "         Current function value: 0.078948\n",
      "         Iterations 10\n",
      "                           Logit Regression Results                           \n",
      "==============================================================================\n",
      "Dep. Variable:                default   No. Observations:                10000\n",
      "Model:                          Logit   Df Residuals:                     9997\n",
      "Method:                           MLE   Df Model:                            2\n",
      "Date:                Mon, 21 Aug 2023   Pseudo R-squ.:                  0.4594\n",
      "Time:                        20:30:26   Log-Likelihood:                -789.48\n",
      "converged:                       True   LL-Null:                       -1460.3\n",
      "Covariance Type:            nonrobust   LLR p-value:                4.541e-292\n",
      "==============================================================================\n",
      "                 coef    std err          z      P>|z|      [0.025      0.975]\n",
      "------------------------------------------------------------------------------\n",
      "const        -11.5405      0.435    -26.544      0.000     -12.393     -10.688\n",
      "income      2.081e-05   4.99e-06      4.174      0.000     1.1e-05    3.06e-05\n",
      "balance        0.0056      0.000     24.835      0.000       0.005       0.006\n",
      "==============================================================================\n",
      "\n",
      "Possibly complete quasi-separation: A fraction 0.14 of observations can be\n",
      "perfectly predicted. This might indicate that there is complete\n",
      "quasi-separation. In this case some parameters will not be identified.\n"
     ]
    }
   ],
   "source": [
    "#A:\n",
    "\n",
    "df[\"default\"] = df[\"default\"].replace({\"Yes\": 1, \"No\": 0})\n",
    "\n",
    "X = df[[\"income\", \"balance\"]]\n",
    "y = df[\"default\"]\n",
    "X = sm.add_constant(X) \n",
    "\n",
    "log_reg = sm.Logit(y, X).fit()\n",
    "\n",
    "print(log_reg.summary())"
   ]
  },
  {
   "cell_type": "markdown",
   "id": "bd93f62f",
   "metadata": {},
   "source": [
    "Q: Using the validation set approach, estimate the test error of this\n",
    "model. In order to do this, you must perform the following steps:\n",
    "\n",
    "i. Split the sample set into a training set and a validation set.\n",
    "\n",
    "ii. Fit a multiple logistic regression model using only the train\u0002ing observations.\n",
    "\n",
    "iii. Obtain a prediction of default status for each individual in the validation set by computing the posterior probability of default for that individual, and classifying the individual to the default category if the posterior probability is greater\n",
    "than 0.5.\n",
    "\n",
    "iv. Compute the validation set error, which is the fraction of the observations in the validation set that are misclassified."
   ]
  },
  {
   "cell_type": "code",
   "execution_count": 3,
   "id": "3eabbf3a",
   "metadata": {},
   "outputs": [
    {
     "name": "stdout",
     "output_type": "stream",
     "text": [
      "0.8\n"
     ]
    }
   ],
   "source": [
    "train_df, test_df = train_test_split(df, test_size=0.2, random_state=2)\n",
    "\n",
    "train_ratio = len(train_df) / len(df)\n",
    "print(train_ratio)"
   ]
  },
  {
   "cell_type": "code",
   "execution_count": 4,
   "id": "606780e2",
   "metadata": {},
   "outputs": [
    {
     "name": "stdout",
     "output_type": "stream",
     "text": [
      "Optimization terminated successfully.\n",
      "         Current function value: 0.078846\n",
      "         Iterations 10\n",
      "                           Logit Regression Results                           \n",
      "==============================================================================\n",
      "Dep. Variable:                default   No. Observations:                 8000\n",
      "Model:                          Logit   Df Residuals:                     7997\n",
      "Method:                           MLE   Df Model:                            2\n",
      "Date:                Mon, 21 Aug 2023   Pseudo R-squ.:                  0.4656\n",
      "Time:                        20:30:29   Log-Likelihood:                -630.77\n",
      "converged:                       True   LL-Null:                       -1180.4\n",
      "Covariance Type:            nonrobust   LLR p-value:                2.064e-239\n",
      "==============================================================================\n",
      "                 coef    std err          z      P>|z|      [0.025      0.975]\n",
      "------------------------------------------------------------------------------\n",
      "const        -11.5748      0.486    -23.815      0.000     -12.527     -10.622\n",
      "income      2.028e-05   5.57e-06      3.640      0.000    9.36e-06    3.12e-05\n",
      "balance        0.0057      0.000     22.377      0.000       0.005       0.006\n",
      "==============================================================================\n",
      "\n",
      "Possibly complete quasi-separation: A fraction 0.15 of observations can be\n",
      "perfectly predicted. This might indicate that there is complete\n",
      "quasi-separation. In this case some parameters will not be identified.\n"
     ]
    }
   ],
   "source": [
    "X_train = train_df[[\"income\", \"balance\"]]\n",
    "y_train = train_df[\"default\"]\n",
    "\n",
    "X_train = sm.add_constant(X_train)\n",
    "log_reg_result = sm.Logit(y_train, X_train).fit()\n",
    "\n",
    "print(log_reg_result.summary())"
   ]
  },
  {
   "cell_type": "code",
   "execution_count": 5,
   "id": "b9346563",
   "metadata": {},
   "outputs": [
    {
     "name": "stdout",
     "output_type": "stream",
     "text": [
      "Optimization terminated successfully.\n",
      "         Current function value: 0.079175\n",
      "         Iterations 10\n"
     ]
    }
   ],
   "source": [
    "X_test = test_df[[\"income\", \"balance\"]]\n",
    "y_test = test_df[\"default\"]\n",
    "\n",
    "X_test = sm.add_constant(X_test)\n",
    "log_reg_model = sm.Logit(y_test, X_test)\n",
    "log_reg_result = log_reg_model.fit()\n",
    "\n",
    "test_pred_probs = log_reg_result.predict(X_test)\n",
    "\n",
    "test_pred = [\"Yes\" if prob > 0.5 else \"No\" for prob in test_pred_probs]\n"
   ]
  },
  {
   "cell_type": "code",
   "execution_count": 6,
   "id": "2717e081",
   "metadata": {},
   "outputs": [
    {
     "name": "stdout",
     "output_type": "stream",
     "text": [
      "0.0245\n"
     ]
    }
   ],
   "source": [
    "df  = pd.read_csv(\"Default.csv\")\n",
    "\n",
    "df = df.sample(frac=1, random_state=1)\n",
    "\n",
    "train_df, test_df = train_test_split(df, test_size=0.2, random_state=2)\n",
    "\n",
    "discrepancy_mean = round((test_df[\"default\"] != test_pred).mean(),4)\n",
    "\n",
    "print(discrepancy_mean)"
   ]
  },
  {
   "cell_type": "markdown",
   "id": "77a5743b",
   "metadata": {},
   "source": [
    "Q: Repeat the process in (b) three times, using three different splits of the observations into a train"
   ]
  },
  {
   "cell_type": "code",
   "execution_count": 7,
   "id": "28129d9a",
   "metadata": {},
   "outputs": [
    {
     "name": "stdout",
     "output_type": "stream",
     "text": [
      "[0.0245, 0.0465, 0.045, 0.054]\n",
      "0.0425\n"
     ]
    }
   ],
   "source": [
    "log_def_errors = []\n",
    "\n",
    "for i in range(2, 6):\n",
    "\n",
    "    train_df, test_df = train_test_split(df, test_size=0.2, random_state=i)\n",
    "\n",
    "    log_reg_model = LogisticRegression()\n",
    "    log_reg_model.fit(train_df[[\"income\", \"balance\"]], train_df[\"default\"])\n",
    "\n",
    "    test_pred_probs1 = log_reg_result.predict(X_test)\n",
    "\n",
    "    test_pred1 = [\"Yes\" if prob > 0.5 else \"No\" for prob in test_pred_probs1]\n",
    "    \n",
    "    error = np.mean(test_df[\"default\"] != test_pred)\n",
    "    log_def_errors.append(error)\n",
    "\n",
    "rounded_errors = [round(error, 4) for error in log_def_errors]\n",
    "print(rounded_errors)\n",
    "print(np.mean(rounded_errors))"
   ]
  },
  {
   "cell_type": "markdown",
   "id": "4c8af44b",
   "metadata": {},
   "source": [
    "A: There is some variation, as we would expect with the validation set approach and cross-validation. The average test error is 0.0425."
   ]
  },
  {
   "cell_type": "markdown",
   "id": "145f0838",
   "metadata": {},
   "source": [
    "Q: Now consider a logistic regression model that predicts the probability of default using income, balance, and a dummy variable for student. Estimate the test error for this model using the validation set approach. Comment on whether or not including a dummy variable for student leads to a reduction in the test error rate."
   ]
  },
  {
   "cell_type": "code",
   "execution_count": 8,
   "id": "93eb3619",
   "metadata": {
    "scrolled": false
   },
   "outputs": [
    {
     "name": "stdout",
     "output_type": "stream",
     "text": [
      "Optimization terminated successfully.\n",
      "         Current function value: 0.078204\n",
      "         Iterations 10\n",
      "                           Logit Regression Results                           \n",
      "==============================================================================\n",
      "Dep. Variable:                default   No. Observations:                 8000\n",
      "Model:                          Logit   Df Residuals:                     7995\n",
      "Method:                           MLE   Df Model:                            4\n",
      "Date:                Mon, 21 Aug 2023   Pseudo R-squ.:                  0.4623\n",
      "Time:                        20:30:34   Log-Likelihood:                -625.63\n",
      "converged:                       True   LL-Null:                       -1163.5\n",
      "Covariance Type:            nonrobust   LLR p-value:                1.323e-231\n",
      "==============================================================================\n",
      "                 coef    std err          z      P>|z|      [0.025      0.975]\n",
      "------------------------------------------------------------------------------\n",
      "const        -10.4364      0.559    -18.666      0.000     -11.532      -9.341\n",
      "Unnamed: 0   -4.2e-05   2.68e-05     -1.570      0.116   -9.44e-05    1.04e-05\n",
      "student       -0.8136      0.262     -3.099      0.002      -1.328      -0.299\n",
      "balance        0.0058      0.000     22.189      0.000       0.005       0.006\n",
      "income     -2.389e-06   9.15e-06     -0.261      0.794   -2.03e-05    1.56e-05\n",
      "==============================================================================\n",
      "\n",
      "Possibly complete quasi-separation: A fraction 0.15 of observations can be\n",
      "perfectly predicted. This might indicate that there is complete\n",
      "quasi-separation. In this case some parameters will not be identified.\n"
     ]
    }
   ],
   "source": [
    "train_df, test_df = train_test_split(df, test_size=0.2, random_state=10)\n",
    "\n",
    "train_df[[\"default\",\"student\"]]  = train_df[[\"default\",\"student\"]].replace({\"Yes\": 1, \"No\": 0})\n",
    "test_df[[\"default\",\"student\"]]  = test_df[[\"default\",\"student\"]].replace({\"Yes\": 1, \"No\": 0})\n",
    "\n",
    "X_train = train_df.drop(\"default\", axis=1)\n",
    "y_train = train_df[\"default\"]\n",
    "\n",
    "X_train = sm.add_constant(X_train)\n",
    "\n",
    "log_reg_model = sm.Logit(y_train, X_train)\n",
    "log_reg_result = log_reg_model.fit()\n",
    "\n",
    "print(log_reg_result.summary())"
   ]
  },
  {
   "cell_type": "code",
   "execution_count": 9,
   "id": "61ea8fa2",
   "metadata": {},
   "outputs": [],
   "source": [
    "X_test = test_df.drop(\"default\", axis=1)\n",
    "X_test = sm.add_constant(X_test)\n",
    "\n",
    "test_pred_probs = log_reg_result.predict(X_test)\n",
    "test_pred = ['Yes' if prob > 0.5 else 'No' for prob in test_pred_probs]"
   ]
  },
  {
   "cell_type": "code",
   "execution_count": 11,
   "id": "ef58db7f",
   "metadata": {},
   "outputs": [
    {
     "name": "stdout",
     "output_type": "stream",
     "text": [
      "0.0275\n"
     ]
    }
   ],
   "source": [
    "df  = pd.read_csv(\"Default.csv\")\n",
    "\n",
    "df = df.sample(frac=1, random_state=1)\n",
    "\n",
    "train_df, test_df = train_test_split(df, test_size=0.2, random_state=10)\n",
    "\n",
    "discrepancy_mean = round((test_df[\"default\"] != test_pred).mean(),4)\n",
    "\n",
    "print(discrepancy_mean)"
   ]
  },
  {
   "cell_type": "markdown",
   "id": "014563b6",
   "metadata": {},
   "source": [
    "It seems that the test error of this model is smaller than the test error of the smaller model."
   ]
  }
 ],
 "metadata": {
  "kernelspec": {
   "display_name": "Python 3 (ipykernel)",
   "language": "python",
   "name": "python3"
  },
  "language_info": {
   "codemirror_mode": {
    "name": "ipython",
    "version": 3
   },
   "file_extension": ".py",
   "mimetype": "text/x-python",
   "name": "python",
   "nbconvert_exporter": "python",
   "pygments_lexer": "ipython3",
   "version": "3.10.9"
  }
 },
 "nbformat": 4,
 "nbformat_minor": 5
}
