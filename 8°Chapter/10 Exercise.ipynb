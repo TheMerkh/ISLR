{
 "cells": [
  {
   "cell_type": "markdown",
   "id": "0be6abc2",
   "metadata": {},
   "source": [
    "We now use boosting to predict Salary in the Hitters data set."
   ]
  },
  {
   "cell_type": "markdown",
   "id": "2ee1ad5e",
   "metadata": {},
   "source": [
    "Remove the observations for whom the salary information is\n",
    "unknown, and then log-transform the salaries."
   ]
  },
  {
   "cell_type": "code",
   "execution_count": 62,
   "id": "738d516d",
   "metadata": {},
   "outputs": [],
   "source": [
    "import numpy as np\n",
    "import pandas as pd\n",
    "import matplotlib.pyplot as plt\n",
    "import sklearn.model_selection as skm\n",
    "from sklearn.ensemble import GradientBoostingRegressor\n",
    "from sklearn.metrics import mean_squared_error\n",
    "from sklearn.linear_model import Lasso\n",
    "from sklearn.cross_decomposition import PLSRegression\n",
    "from sklearn.ensemble import RandomForestRegressor\n",
    "from ISLP import load_data\n",
    "\n",
    "Hitters = load_data(\"Hitters\")\n",
    "\n",
    "Hitters = Hitters[Hitters[\"Salary\"].notna()]\n",
    "\n",
    "Hitters[\"Salary\"] = np.log(Hitters[\"Salary\"])"
   ]
  },
  {
   "cell_type": "markdown",
   "id": "e0ed1ee1",
   "metadata": {},
   "source": [
    "Create a training set consisting of the first 200 observations, and\n",
    "a test set consisting of the remaining observations."
   ]
  },
  {
   "cell_type": "code",
   "execution_count": 40,
   "id": "46b59ba6",
   "metadata": {},
   "outputs": [],
   "source": [
    "X = Hitters.drop([\"Salary\"], axis = 1)\n",
    "y = Hitters[\"Salary\"]\n",
    "\n",
    "X[\"League\"] = X[\"League\"].replace({\"N\":0, \"A\":1})\n",
    "X[\"Division\"] = X[\"Division\"].replace({\"W\":0, \"E\":1})\n",
    "X[\"NewLeague\"] = X[\"NewLeague\"].replace({\"N\":0, \"A\":1})\n",
    "\n",
    "(X_train, X_test, y_train, y_test) = skm.train_test_split(X, y, test_size = 0.2395, random_state = 0)"
   ]
  },
  {
   "cell_type": "markdown",
   "id": "7c1beb04",
   "metadata": {},
   "source": [
    "Perform boosting on the training set with 1,000 trees for a range\n",
    "of values of the shrinkage parameter λ. Produce a plot with\n",
    "different shrinkage values on the x-axis and the corresponding\n",
    "training set MSE on the y-axis."
   ]
  },
  {
   "cell_type": "code",
   "execution_count": 50,
   "id": "80126b05",
   "metadata": {},
   "outputs": [
    {
     "data": {
      "text/plain": [
       "[<matplotlib.lines.Line2D at 0x1e567852470>]"
      ]
     },
     "execution_count": 50,
     "metadata": {},
     "output_type": "execute_result"
    },
    {
     "data": {
      "image/png": "[encoded data removed]",
      "text/plain": [
       "<Figure size 640x480 with 1 Axes>"
      ]
     },
     "metadata": {},
     "output_type": "display_data"
    }
   ],
   "source": [
    "shrinkage_values = [0.00000001,0.0000001,0.000001,0.00001, 0.0001, 0.001, 0.01, 0.1, 1]\n",
    "mse_scores = []\n",
    "\n",
    "for shrinkage in shrinkage_values:\n",
    "    model = GradientBoostingRegressor(n_estimators=1000, learning_rate=shrinkage, random_state=42)\n",
    "    model.fit(X_train, y_train)\n",
    "\n",
    "    pred = model.predict(X_train)\n",
    "    mse = mean_squared_error(y_train, pred)\n",
    "    \n",
    "    mse_scores.append(mse)\n",
    "\n",
    "plt.plot(shrinkage_values, mse_scores,marker = \"o\")"
   ]
  },
  {
   "cell_type": "markdown",
   "id": "c8268355",
   "metadata": {},
   "source": [
    "Compare the test MSE of boosting to the test MSE that results\n",
    "from applying two of the regression approaches seen in\n",
    "Chapters 3 and 6."
   ]
  },
  {
   "cell_type": "code",
   "execution_count": 61,
   "id": "3b7cd77a",
   "metadata": {},
   "outputs": [
    {
     "name": "stdout",
     "output_type": "stream",
     "text": [
      "0.177994978793269\n",
      "0.49303280734678834\n",
      "0.4027084928037787\n"
     ]
    }
   ],
   "source": [
    "gb_model = GradientBoostingRegressor(n_estimators=1000, learning_rate=0.1)\n",
    "gb_model.fit(X_train, y_train)\n",
    "pred_gb = gb_model.predict(X_test)\n",
    "mse_gb = mean_squared_error(y_test, pred_gb)\n",
    "\n",
    "lasso_model = Lasso(alpha=1.0)\n",
    "lasso_model.fit(X_train, y_train)\n",
    "pred_lasso = lasso_model.predict(X_test)\n",
    "mse_lasso = mean_squared_error(y_test, pred_lasso)\n",
    "\n",
    "pls_model = PLSRegression(n_components=2)\n",
    "pls_model.fit(X_train, y_train)\n",
    "pred_pls = pls_model.predict(X_test)\n",
    "mse_pls = mean_squared_error(y_test, pred_pls)\n",
    "\n",
    "print(mse_gb)\n",
    "print(mse_lasso)\n",
    "print(mse_pls)"
   ]
  },
  {
   "cell_type": "markdown",
   "id": "d98d0111",
   "metadata": {},
   "source": [
    "Now apply bagging to the training set. What is the test set MSE\n",
    "for this approach?"
   ]
  },
  {
   "cell_type": "code",
   "execution_count": 64,
   "id": "c9e320f3",
   "metadata": {},
   "outputs": [
    {
     "name": "stdout",
     "output_type": "stream",
     "text": [
      "0.14188645882312317\n"
     ]
    }
   ],
   "source": [
    "rf_model = RandomForestRegressor(n_estimators=1000, random_state=42)\n",
    "rf_model.fit(X_train, y_train)\n",
    "pred_rf = rf_model.predict(X_test)\n",
    "mse_rf = mean_squared_error(y_test, pred_rf)\n",
    "\n",
    "print(mse_rf)"
   ]
  }
 ],
 "metadata": {
  "kernelspec": {
   "display_name": "Python 3 (ipykernel)",
   "language": "python",
   "name": "python3"
  },
  "language_info": {
   "codemirror_mode": {
    "name": "ipython",
    "version": 3
   },
   "file_extension": ".py",
   "mimetype": "text/x-python",
   "name": "python",
   "nbconvert_exporter": "python",
   "pygments_lexer": "ipython3",
   "version": "3.10.9"
  }
 },
 "nbformat": 4,
 "nbformat_minor": 5
}
