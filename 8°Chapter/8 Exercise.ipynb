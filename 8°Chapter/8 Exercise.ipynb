{
 "cells": [
  {
   "cell_type": "markdown",
   "id": "c9b6ac98",
   "metadata": {},
   "source": [
    "In the lab, a classification tree was applied to the Carseats data set af-\n",
    "ter converting Sales into a qualitative response variable. Now we will\n",
    "seek to predict Sales using regression trees and related approaches,\n",
    "treating the response as a quantitative variable"
   ]
  },
  {
   "cell_type": "markdown",
   "id": "0883773d",
   "metadata": {},
   "source": [
    "Q:Split the data set into a training set and a test set."
   ]
  },
  {
   "cell_type": "code",
   "execution_count": 107,
   "id": "cad9e36c",
   "metadata": {},
   "outputs": [],
   "source": [
    "import numpy as np\n",
    "import pandas as pd\n",
    "import matplotlib.pyplot as plt\n",
    "import sklearn.model_selection as skm\n",
    "from sklearn.ensemble import RandomForestRegressor\n",
    "from sklearn.tree import DecisionTreeRegressor\n",
    "from sklearn.tree import plot_tree\n",
    "from ISLP import load_data\n",
    "\n",
    "Carseats = load_data(\"Carseats\")\n",
    "Carseats[\"ShelveLoc\"] = Carseats[\"ShelveLoc\"].replace({\"Bad\":0, \"Medium\":0.5, \"Good\":1})\n",
    "Carseats[\"Urban\"] = Carseats[\"Urban\"].replace({\"No\":0, \"Yes\":1})\n",
    "Carseats[\"US\"] = Carseats[\"US\"].replace({\"No\":0, \"Yes\":1})\n",
    "X =  Carseats.drop([\"Sales\"], axis = 1)\n",
    "\n",
    "\n",
    "(X_train , X_test , y_train , y_test) = skm.train_test_split(X, Carseats[\"Sales\"], test_size =0.2, random_state =0)"
   ]
  },
  {
   "cell_type": "markdown",
   "id": "b5c2042a",
   "metadata": {},
   "source": [
    "Q:Fit a regression tree to the training set. Plot the tree, and interpret the results. What test MSE do you obtain?"
   ]
  },
  {
   "cell_type": "code",
   "execution_count": 108,
   "id": "619a9ba6",
   "metadata": {},
   "outputs": [
    {
     "data": {
      "text/plain": [
       "5.00918875"
      ]
     },
     "execution_count": 108,
     "metadata": {},
     "output_type": "execute_result"
    }
   ],
   "source": [
    "model = DecisionTreeRegressor(random_state=1)\n",
    "model.fit(X_train, y_train)\n",
    "pred = model.predict(X_test)\n",
    "\n",
    "np.mean((y_test - pred)**2)"
   ]
  },
  {
   "cell_type": "markdown",
   "id": "078b6a94",
   "metadata": {},
   "source": [
    "Q: Use cross-validation in order to determine the optimal level of\n",
    "tree complexity. Does pruning the tree improve the test MSE?"
   ]
  },
  {
   "cell_type": "code",
   "execution_count": 98,
   "id": "1a70c9f9",
   "metadata": {},
   "outputs": [
    {
     "data": {
      "text/plain": [
       "<matplotlib.collections.PathCollection at 0x22e34dda1a0>"
      ]
     },
     "execution_count": 98,
     "metadata": {},
     "output_type": "execute_result"
    },
    {
     "data": {
      "image/png": "[encoded data removed]",
      "text/plain": [
       "<Figure size 640x480 with 1 Axes>"
      ]
     },
     "metadata": {},
     "output_type": "display_data"
    }
   ],
   "source": [
    "cv = []\n",
    "nodes = []\n",
    "\n",
    "for n_nodes in range(2, 21, 2):\n",
    "    model = DecisionTreeRegressor(max_leaf_nodes = n_nodes)\n",
    "    score = -skm.cross_val_score(model, X, Carseats[\"Sales\"], cv = 10, scoring= \"neg_mean_squared_error\",error_score=\"raise\") \n",
    "    cv.append(np.mean(score))\n",
    "    nodes.append(n_nodes)\n",
    "    \n",
    "df = pd.DataFrame({\"cv\":cv,\"nodes\":nodes})\n",
    "df[\"min\"] = df[\"cv\"] == df[\"cv\"].min()\n",
    "\n",
    "plt.plot(nodes, cv)\n",
    "plt.scatter(df[\"nodes\"], df[\"cv\"], s=60, c=df[\"min\"].map({True: \"g\", False: \"r\"}))"
   ]
  },
  {
   "cell_type": "markdown",
   "id": "5f899ace",
   "metadata": {},
   "source": [
    "Q: Use random forests to analyze this data. What test MSE do\n",
    "you obtain? Use the feature_importance_ values to determine\n",
    "which variables are most important. Describe the effect of m, the\n",
    "number of variables considered at each split, on the error rate\n",
    "obtained."
   ]
  },
  {
   "cell_type": "code",
   "execution_count": 126,
   "id": "1fe9617b",
   "metadata": {},
   "outputs": [
    {
     "name": "stdout",
     "output_type": "stream",
     "text": [
      "2.2868048781250008\n"
     ]
    },
    {
     "data": {
      "text/html": [
       "<div>\n",
       "<style scoped>\n",
       "    .dataframe tbody tr th:only-of-type {\n",
       "        vertical-align: middle;\n",
       "    }\n",
       "\n",
       "    .dataframe tbody tr th {\n",
       "        vertical-align: top;\n",
       "    }\n",
       "\n",
       "    .dataframe thead th {\n",
       "        text-align: right;\n",
       "    }\n",
       "</style>\n",
       "<table border=\"1\" class=\"dataframe\">\n",
       "  <thead>\n",
       "    <tr style=\"text-align: right;\">\n",
       "      <th></th>\n",
       "      <th>importance</th>\n",
       "    </tr>\n",
       "  </thead>\n",
       "  <tbody>\n",
       "    <tr>\n",
       "      <th>ShelveLoc</th>\n",
       "      <td>0.288144</td>\n",
       "    </tr>\n",
       "    <tr>\n",
       "      <th>Price</th>\n",
       "      <td>0.287914</td>\n",
       "    </tr>\n",
       "    <tr>\n",
       "      <th>Age</th>\n",
       "      <td>0.118230</td>\n",
       "    </tr>\n",
       "    <tr>\n",
       "      <th>CompPrice</th>\n",
       "      <td>0.106707</td>\n",
       "    </tr>\n",
       "    <tr>\n",
       "      <th>Advertising</th>\n",
       "      <td>0.064471</td>\n",
       "    </tr>\n",
       "    <tr>\n",
       "      <th>Income</th>\n",
       "      <td>0.053614</td>\n",
       "    </tr>\n",
       "    <tr>\n",
       "      <th>Population</th>\n",
       "      <td>0.037858</td>\n",
       "    </tr>\n",
       "    <tr>\n",
       "      <th>Education</th>\n",
       "      <td>0.032053</td>\n",
       "    </tr>\n",
       "    <tr>\n",
       "      <th>US</th>\n",
       "      <td>0.006839</td>\n",
       "    </tr>\n",
       "    <tr>\n",
       "      <th>Urban</th>\n",
       "      <td>0.004171</td>\n",
       "    </tr>\n",
       "  </tbody>\n",
       "</table>\n",
       "</div>"
      ],
      "text/plain": [
       "             importance\n",
       "ShelveLoc      0.288144\n",
       "Price          0.287914\n",
       "Age            0.118230\n",
       "CompPrice      0.106707\n",
       "Advertising    0.064471\n",
       "Income         0.053614\n",
       "Population     0.037858\n",
       "Education      0.032053\n",
       "US             0.006839\n",
       "Urban          0.004171"
      ]
     },
     "execution_count": 126,
     "metadata": {},
     "output_type": "execute_result"
    }
   ],
   "source": [
    "names = list(X.columns)\n",
    "\n",
    "model = RandomForestRegressor(max_features=X_train.shape [1], random_state =0)\n",
    "fit = model.fit(X_train, y_train)\n",
    "\n",
    "pred = model.predict(X_test)\n",
    "\n",
    "imp = pd.DataFrame({\"importance\": fit.feature_importances_}, index = names)\n",
    "\n",
    "print(np.mean((y_test-pred)**2))\n",
    "imp.sort_values(by= \"importance\", ascending = False)"
   ]
  }
 ],
 "metadata": {
  "kernelspec": {
   "display_name": "Python 3 (ipykernel)",
   "language": "python",
   "name": "python3"
  },
  "language_info": {
   "codemirror_mode": {
    "name": "ipython",
    "version": 3
   },
   "file_extension": ".py",
   "mimetype": "text/x-python",
   "name": "python",
   "nbconvert_exporter": "python",
   "pygments_lexer": "ipython3",
   "version": "3.10.9"
  }
 },
 "nbformat": 4,
 "nbformat_minor": 5
}
