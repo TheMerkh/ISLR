{
 "cells": [
  {
   "cell_type": "markdown",
   "id": "c76cb1bb",
   "metadata": {},
   "source": [
    "Forward Metod"
   ]
  },
  {
   "cell_type": "code",
   "execution_count": 215,
   "id": "7fb5723b",
   "metadata": {},
   "outputs": [
    {
     "name": "stdout",
     "output_type": "stream",
     "text": [
      "[1, 0, 2]\n"
     ]
    }
   ],
   "source": [
    "import pandas as pd\n",
    "import numpy as np\n",
    "import statsmodels.api as sm\n",
    "from sklearn.model_selection import cross_val_score\n",
    "from sklearn.linear_model import LinearRegression\n",
    "from sklearn.model_selection import GridSearchCV\n",
    "from sklearn.linear_model import Ridge\n",
    "from sklearn.linear_model import Lasso\n",
    "from sklearn.decomposition import PCA\n",
    "from sklearn.cross_decomposition import PLSRegression\n",
    "from mpl_toolkits.mplot3d import Axes3D\n",
    "import matplotlib.pyplot as plt\n",
    "\n",
    "np.random.seed(42)\n",
    "X = np.random.rand(100, 5)\n",
    "y = 2 * X[:, 0] + 3 * X[:, 1] + 0.5 * X[:, 2] + np.random.normal(0, 0.1, 100)\n",
    "X = pd.DataFrame(X)\n",
    "y = pd.DataFrame(y)\n",
    "\n",
    "\n",
    "def forward_subset_selection(X, y, significance_level=0.05):\n",
    "    remaining_features = list(X.columns)\n",
    "    selected_features = []\n",
    "    \n",
    "    while len(remaining_features) > 0:\n",
    "        best_p_value = float(\"inf\")\n",
    "        best_feature = None\n",
    "        \n",
    "        for feature in remaining_features:\n",
    "            model_features = selected_features + [feature]\n",
    "            X_subset = X[model_features]\n",
    "            model = sm.OLS(y, sm.add_constant(X_subset)).fit()\n",
    "            p_value = model.pvalues[feature]\n",
    "            \n",
    "            if p_value < best_p_value:\n",
    "                best_p_value = p_value\n",
    "                best_feature = feature\n",
    "        \n",
    "        if best_p_value <= significance_level:\n",
    "            selected_features.append(best_feature)\n",
    "            remaining_features.remove(best_feature)\n",
    "        else:\n",
    "            break\n",
    "    \n",
    "    return selected_features\n",
    "\n",
    "selected_features = forward_subset_selection(X, y)\n",
    "print(selected_features)"
   ]
  },
  {
   "cell_type": "code",
   "execution_count": 3,
   "id": "376efccc",
   "metadata": {},
   "outputs": [
    {
     "data": {
      "text/html": [
       "<table class=\"simpletable\">\n",
       "<caption>OLS Regression Results</caption>\n",
       "<tr>\n",
       "  <th>Dep. Variable:</th>            <td>0</td>        <th>  R-squared:         </th> <td>   0.989</td>\n",
       "</tr>\n",
       "<tr>\n",
       "  <th>Model:</th>                   <td>OLS</td>       <th>  Adj. R-squared:    </th> <td>   0.988</td>\n",
       "</tr>\n",
       "<tr>\n",
       "  <th>Method:</th>             <td>Least Squares</td>  <th>  F-statistic:       </th> <td>   2781.</td>\n",
       "</tr>\n",
       "<tr>\n",
       "  <th>Date:</th>             <td>Wed, 30 Aug 2023</td> <th>  Prob (F-statistic):</th> <td>3.80e-93</td>\n",
       "</tr>\n",
       "<tr>\n",
       "  <th>Time:</th>                 <td>18:25:03</td>     <th>  Log-Likelihood:    </th> <td>  82.143</td>\n",
       "</tr>\n",
       "<tr>\n",
       "  <th>No. Observations:</th>      <td>   100</td>      <th>  AIC:               </th> <td>  -156.3</td>\n",
       "</tr>\n",
       "<tr>\n",
       "  <th>Df Residuals:</th>          <td>    96</td>      <th>  BIC:               </th> <td>  -145.9</td>\n",
       "</tr>\n",
       "<tr>\n",
       "  <th>Df Model:</th>              <td>     3</td>      <th>                     </th>     <td> </td>   \n",
       "</tr>\n",
       "<tr>\n",
       "  <th>Covariance Type:</th>      <td>nonrobust</td>    <th>                     </th>     <td> </td>   \n",
       "</tr>\n",
       "</table>\n",
       "<table class=\"simpletable\">\n",
       "<tr>\n",
       "    <td></td>       <th>coef</th>     <th>std err</th>      <th>t</th>      <th>P>|t|</th>  <th>[0.025</th>    <th>0.975]</th>  \n",
       "</tr>\n",
       "<tr>\n",
       "  <th>const</th> <td>    0.0073</td> <td>    0.037</td> <td>    0.196</td> <td> 0.845</td> <td>   -0.066</td> <td>    0.081</td>\n",
       "</tr>\n",
       "<tr>\n",
       "  <th>1</th>     <td>    2.9618</td> <td>    0.037</td> <td>   79.956</td> <td> 0.000</td> <td>    2.888</td> <td>    3.035</td>\n",
       "</tr>\n",
       "<tr>\n",
       "  <th>0</th>     <td>    1.9767</td> <td>    0.038</td> <td>   52.057</td> <td> 0.000</td> <td>    1.901</td> <td>    2.052</td>\n",
       "</tr>\n",
       "<tr>\n",
       "  <th>2</th>     <td>    0.5472</td> <td>    0.038</td> <td>   14.329</td> <td> 0.000</td> <td>    0.471</td> <td>    0.623</td>\n",
       "</tr>\n",
       "</table>\n",
       "<table class=\"simpletable\">\n",
       "<tr>\n",
       "  <th>Omnibus:</th>       <td> 0.907</td> <th>  Durbin-Watson:     </th> <td>   1.867</td>\n",
       "</tr>\n",
       "<tr>\n",
       "  <th>Prob(Omnibus):</th> <td> 0.635</td> <th>  Jarque-Bera (JB):  </th> <td>   0.944</td>\n",
       "</tr>\n",
       "<tr>\n",
       "  <th>Skew:</th>          <td> 0.099</td> <th>  Prob(JB):          </th> <td>   0.624</td>\n",
       "</tr>\n",
       "<tr>\n",
       "  <th>Kurtosis:</th>      <td> 2.567</td> <th>  Cond. No.          </th> <td>    6.77</td>\n",
       "</tr>\n",
       "</table><br/><br/>Notes:<br/>[1] Standard Errors assume that the covariance matrix of the errors is correctly specified."
      ],
      "text/plain": [
       "<class 'statsmodels.iolib.summary.Summary'>\n",
       "\"\"\"\n",
       "                            OLS Regression Results                            \n",
       "==============================================================================\n",
       "Dep. Variable:                      0   R-squared:                       0.989\n",
       "Model:                            OLS   Adj. R-squared:                  0.988\n",
       "Method:                 Least Squares   F-statistic:                     2781.\n",
       "Date:                Wed, 30 Aug 2023   Prob (F-statistic):           3.80e-93\n",
       "Time:                        18:25:03   Log-Likelihood:                 82.143\n",
       "No. Observations:                 100   AIC:                            -156.3\n",
       "Df Residuals:                      96   BIC:                            -145.9\n",
       "Df Model:                           3                                         \n",
       "Covariance Type:            nonrobust                                         \n",
       "==============================================================================\n",
       "                 coef    std err          t      P>|t|      [0.025      0.975]\n",
       "------------------------------------------------------------------------------\n",
       "const          0.0073      0.037      0.196      0.845      -0.066       0.081\n",
       "1              2.9618      0.037     79.956      0.000       2.888       3.035\n",
       "0              1.9767      0.038     52.057      0.000       1.901       2.052\n",
       "2              0.5472      0.038     14.329      0.000       0.471       0.623\n",
       "==============================================================================\n",
       "Omnibus:                        0.907   Durbin-Watson:                   1.867\n",
       "Prob(Omnibus):                  0.635   Jarque-Bera (JB):                0.944\n",
       "Skew:                           0.099   Prob(JB):                        0.624\n",
       "Kurtosis:                       2.567   Cond. No.                         6.77\n",
       "==============================================================================\n",
       "\n",
       "Notes:\n",
       "[1] Standard Errors assume that the covariance matrix of the errors is correctly specified.\n",
       "\"\"\""
      ]
     },
     "execution_count": 3,
     "metadata": {},
     "output_type": "execute_result"
    }
   ],
   "source": [
    "model = sm.OLS(y, sm.add_constant(X[selected_features]))\n",
    "model.fit().summary()"
   ]
  },
  {
   "cell_type": "code",
   "execution_count": 4,
   "id": "2807ed2b",
   "metadata": {},
   "outputs": [
    {
     "data": {
      "text/html": [
       "<table class=\"simpletable\">\n",
       "<caption>OLS Regression Results</caption>\n",
       "<tr>\n",
       "  <th>Dep. Variable:</th>            <td>0</td>        <th>  R-squared:         </th> <td>   0.989</td>\n",
       "</tr>\n",
       "<tr>\n",
       "  <th>Model:</th>                   <td>OLS</td>       <th>  Adj. R-squared:    </th> <td>   0.988</td>\n",
       "</tr>\n",
       "<tr>\n",
       "  <th>Method:</th>             <td>Least Squares</td>  <th>  F-statistic:       </th> <td>   1647.</td>\n",
       "</tr>\n",
       "<tr>\n",
       "  <th>Date:</th>             <td>Wed, 30 Aug 2023</td> <th>  Prob (F-statistic):</th> <td>7.36e-90</td>\n",
       "</tr>\n",
       "<tr>\n",
       "  <th>Time:</th>                 <td>18:25:06</td>     <th>  Log-Likelihood:    </th> <td>  82.528</td>\n",
       "</tr>\n",
       "<tr>\n",
       "  <th>No. Observations:</th>      <td>   100</td>      <th>  AIC:               </th> <td>  -153.1</td>\n",
       "</tr>\n",
       "<tr>\n",
       "  <th>Df Residuals:</th>          <td>    94</td>      <th>  BIC:               </th> <td>  -137.4</td>\n",
       "</tr>\n",
       "<tr>\n",
       "  <th>Df Model:</th>              <td>     5</td>      <th>                     </th>     <td> </td>   \n",
       "</tr>\n",
       "<tr>\n",
       "  <th>Covariance Type:</th>      <td>nonrobust</td>    <th>                     </th>     <td> </td>   \n",
       "</tr>\n",
       "</table>\n",
       "<table class=\"simpletable\">\n",
       "<tr>\n",
       "    <td></td>       <th>coef</th>     <th>std err</th>      <th>t</th>      <th>P>|t|</th>  <th>[0.025</th>    <th>0.975]</th>  \n",
       "</tr>\n",
       "<tr>\n",
       "  <th>const</th> <td>    0.0237</td> <td>    0.046</td> <td>    0.514</td> <td> 0.609</td> <td>   -0.068</td> <td>    0.115</td>\n",
       "</tr>\n",
       "<tr>\n",
       "  <th>0</th>     <td>    1.9737</td> <td>    0.038</td> <td>   51.316</td> <td> 0.000</td> <td>    1.897</td> <td>    2.050</td>\n",
       "</tr>\n",
       "<tr>\n",
       "  <th>1</th>     <td>    2.9575</td> <td>    0.038</td> <td>   78.610</td> <td> 0.000</td> <td>    2.883</td> <td>    3.032</td>\n",
       "</tr>\n",
       "<tr>\n",
       "  <th>2</th>     <td>    0.5463</td> <td>    0.039</td> <td>   14.113</td> <td> 0.000</td> <td>    0.469</td> <td>    0.623</td>\n",
       "</tr>\n",
       "<tr>\n",
       "  <th>3</th>     <td>    0.0038</td> <td>    0.039</td> <td>    0.098</td> <td> 0.922</td> <td>   -0.074</td> <td>    0.081</td>\n",
       "</tr>\n",
       "<tr>\n",
       "  <th>4</th>     <td>   -0.0314</td> <td>    0.037</td> <td>   -0.846</td> <td> 0.400</td> <td>   -0.105</td> <td>    0.042</td>\n",
       "</tr>\n",
       "</table>\n",
       "<table class=\"simpletable\">\n",
       "<tr>\n",
       "  <th>Omnibus:</th>       <td> 0.479</td> <th>  Durbin-Watson:     </th> <td>   1.868</td>\n",
       "</tr>\n",
       "<tr>\n",
       "  <th>Prob(Omnibus):</th> <td> 0.787</td> <th>  Jarque-Bera (JB):  </th> <td>   0.617</td>\n",
       "</tr>\n",
       "<tr>\n",
       "  <th>Skew:</th>          <td> 0.140</td> <th>  Prob(JB):          </th> <td>   0.735</td>\n",
       "</tr>\n",
       "<tr>\n",
       "  <th>Kurtosis:</th>      <td> 2.737</td> <th>  Cond. No.          </th> <td>    8.50</td>\n",
       "</tr>\n",
       "</table><br/><br/>Notes:<br/>[1] Standard Errors assume that the covariance matrix of the errors is correctly specified."
      ],
      "text/plain": [
       "<class 'statsmodels.iolib.summary.Summary'>\n",
       "\"\"\"\n",
       "                            OLS Regression Results                            \n",
       "==============================================================================\n",
       "Dep. Variable:                      0   R-squared:                       0.989\n",
       "Model:                            OLS   Adj. R-squared:                  0.988\n",
       "Method:                 Least Squares   F-statistic:                     1647.\n",
       "Date:                Wed, 30 Aug 2023   Prob (F-statistic):           7.36e-90\n",
       "Time:                        18:25:06   Log-Likelihood:                 82.528\n",
       "No. Observations:                 100   AIC:                            -153.1\n",
       "Df Residuals:                      94   BIC:                            -137.4\n",
       "Df Model:                           5                                         \n",
       "Covariance Type:            nonrobust                                         \n",
       "==============================================================================\n",
       "                 coef    std err          t      P>|t|      [0.025      0.975]\n",
       "------------------------------------------------------------------------------\n",
       "const          0.0237      0.046      0.514      0.609      -0.068       0.115\n",
       "0              1.9737      0.038     51.316      0.000       1.897       2.050\n",
       "1              2.9575      0.038     78.610      0.000       2.883       3.032\n",
       "2              0.5463      0.039     14.113      0.000       0.469       0.623\n",
       "3              0.0038      0.039      0.098      0.922      -0.074       0.081\n",
       "4             -0.0314      0.037     -0.846      0.400      -0.105       0.042\n",
       "==============================================================================\n",
       "Omnibus:                        0.479   Durbin-Watson:                   1.868\n",
       "Prob(Omnibus):                  0.787   Jarque-Bera (JB):                0.617\n",
       "Skew:                           0.140   Prob(JB):                        0.735\n",
       "Kurtosis:                       2.737   Cond. No.                         8.50\n",
       "==============================================================================\n",
       "\n",
       "Notes:\n",
       "[1] Standard Errors assume that the covariance matrix of the errors is correctly specified.\n",
       "\"\"\""
      ]
     },
     "execution_count": 4,
     "metadata": {},
     "output_type": "execute_result"
    }
   ],
   "source": [
    "model = sm.OLS(y, sm.add_constant(X))\n",
    "model.fit().summary()"
   ]
  },
  {
   "cell_type": "markdown",
   "id": "9b4eceb2",
   "metadata": {},
   "source": [
    "Backward Metod"
   ]
  },
  {
   "cell_type": "code",
   "execution_count": 5,
   "id": "b3475014",
   "metadata": {},
   "outputs": [
    {
     "name": "stdout",
     "output_type": "stream",
     "text": [
      "[0, 1, 2]\n"
     ]
    }
   ],
   "source": [
    "def backward_subset_selection(X, y, significance_level=0.05):\n",
    "    selected_columns = list(X.columns)\n",
    "    num_features = len(selected_columns)\n",
    "\n",
    "    while True:\n",
    "        X_subset = X[selected_columns]\n",
    "        model = sm.OLS(y, sm.add_constant(X_subset)).fit()\n",
    "        p_values = model.pvalues[1:] \n",
    "\n",
    "        max_p_value = p_values.max()\n",
    "        if max_p_value > significance_level:\n",
    "            idx_to_remove = p_values.idxmax()\n",
    "            selected_columns.remove(idx_to_remove)\n",
    "            num_features -= 1\n",
    "        else:\n",
    "            break\n",
    "\n",
    "    return selected_columns\n",
    "\n",
    "selected_features = backward_subset_selection(X, y)\n",
    "print(selected_features)"
   ]
  },
  {
   "cell_type": "code",
   "execution_count": 6,
   "id": "999dcb4d",
   "metadata": {},
   "outputs": [
    {
     "data": {
      "text/html": [
       "<table class=\"simpletable\">\n",
       "<caption>OLS Regression Results</caption>\n",
       "<tr>\n",
       "  <th>Dep. Variable:</th>            <td>0</td>        <th>  R-squared:         </th> <td>   0.989</td>\n",
       "</tr>\n",
       "<tr>\n",
       "  <th>Model:</th>                   <td>OLS</td>       <th>  Adj. R-squared:    </th> <td>   0.988</td>\n",
       "</tr>\n",
       "<tr>\n",
       "  <th>Method:</th>             <td>Least Squares</td>  <th>  F-statistic:       </th> <td>   2781.</td>\n",
       "</tr>\n",
       "<tr>\n",
       "  <th>Date:</th>             <td>Wed, 30 Aug 2023</td> <th>  Prob (F-statistic):</th> <td>3.80e-93</td>\n",
       "</tr>\n",
       "<tr>\n",
       "  <th>Time:</th>                 <td>18:25:09</td>     <th>  Log-Likelihood:    </th> <td>  82.143</td>\n",
       "</tr>\n",
       "<tr>\n",
       "  <th>No. Observations:</th>      <td>   100</td>      <th>  AIC:               </th> <td>  -156.3</td>\n",
       "</tr>\n",
       "<tr>\n",
       "  <th>Df Residuals:</th>          <td>    96</td>      <th>  BIC:               </th> <td>  -145.9</td>\n",
       "</tr>\n",
       "<tr>\n",
       "  <th>Df Model:</th>              <td>     3</td>      <th>                     </th>     <td> </td>   \n",
       "</tr>\n",
       "<tr>\n",
       "  <th>Covariance Type:</th>      <td>nonrobust</td>    <th>                     </th>     <td> </td>   \n",
       "</tr>\n",
       "</table>\n",
       "<table class=\"simpletable\">\n",
       "<tr>\n",
       "    <td></td>       <th>coef</th>     <th>std err</th>      <th>t</th>      <th>P>|t|</th>  <th>[0.025</th>    <th>0.975]</th>  \n",
       "</tr>\n",
       "<tr>\n",
       "  <th>const</th> <td>    0.0073</td> <td>    0.037</td> <td>    0.196</td> <td> 0.845</td> <td>   -0.066</td> <td>    0.081</td>\n",
       "</tr>\n",
       "<tr>\n",
       "  <th>0</th>     <td>    1.9767</td> <td>    0.038</td> <td>   52.057</td> <td> 0.000</td> <td>    1.901</td> <td>    2.052</td>\n",
       "</tr>\n",
       "<tr>\n",
       "  <th>1</th>     <td>    2.9618</td> <td>    0.037</td> <td>   79.956</td> <td> 0.000</td> <td>    2.888</td> <td>    3.035</td>\n",
       "</tr>\n",
       "<tr>\n",
       "  <th>2</th>     <td>    0.5472</td> <td>    0.038</td> <td>   14.329</td> <td> 0.000</td> <td>    0.471</td> <td>    0.623</td>\n",
       "</tr>\n",
       "</table>\n",
       "<table class=\"simpletable\">\n",
       "<tr>\n",
       "  <th>Omnibus:</th>       <td> 0.907</td> <th>  Durbin-Watson:     </th> <td>   1.867</td>\n",
       "</tr>\n",
       "<tr>\n",
       "  <th>Prob(Omnibus):</th> <td> 0.635</td> <th>  Jarque-Bera (JB):  </th> <td>   0.944</td>\n",
       "</tr>\n",
       "<tr>\n",
       "  <th>Skew:</th>          <td> 0.099</td> <th>  Prob(JB):          </th> <td>   0.624</td>\n",
       "</tr>\n",
       "<tr>\n",
       "  <th>Kurtosis:</th>      <td> 2.567</td> <th>  Cond. No.          </th> <td>    6.77</td>\n",
       "</tr>\n",
       "</table><br/><br/>Notes:<br/>[1] Standard Errors assume that the covariance matrix of the errors is correctly specified."
      ],
      "text/plain": [
       "<class 'statsmodels.iolib.summary.Summary'>\n",
       "\"\"\"\n",
       "                            OLS Regression Results                            \n",
       "==============================================================================\n",
       "Dep. Variable:                      0   R-squared:                       0.989\n",
       "Model:                            OLS   Adj. R-squared:                  0.988\n",
       "Method:                 Least Squares   F-statistic:                     2781.\n",
       "Date:                Wed, 30 Aug 2023   Prob (F-statistic):           3.80e-93\n",
       "Time:                        18:25:09   Log-Likelihood:                 82.143\n",
       "No. Observations:                 100   AIC:                            -156.3\n",
       "Df Residuals:                      96   BIC:                            -145.9\n",
       "Df Model:                           3                                         \n",
       "Covariance Type:            nonrobust                                         \n",
       "==============================================================================\n",
       "                 coef    std err          t      P>|t|      [0.025      0.975]\n",
       "------------------------------------------------------------------------------\n",
       "const          0.0073      0.037      0.196      0.845      -0.066       0.081\n",
       "0              1.9767      0.038     52.057      0.000       1.901       2.052\n",
       "1              2.9618      0.037     79.956      0.000       2.888       3.035\n",
       "2              0.5472      0.038     14.329      0.000       0.471       0.623\n",
       "==============================================================================\n",
       "Omnibus:                        0.907   Durbin-Watson:                   1.867\n",
       "Prob(Omnibus):                  0.635   Jarque-Bera (JB):                0.944\n",
       "Skew:                           0.099   Prob(JB):                        0.624\n",
       "Kurtosis:                       2.567   Cond. No.                         6.77\n",
       "==============================================================================\n",
       "\n",
       "Notes:\n",
       "[1] Standard Errors assume that the covariance matrix of the errors is correctly specified.\n",
       "\"\"\""
      ]
     },
     "execution_count": 6,
     "metadata": {},
     "output_type": "execute_result"
    }
   ],
   "source": [
    "model = sm.OLS(y, sm.add_constant(X[selected_features]))\n",
    "model.fit().summary()"
   ]
  },
  {
   "cell_type": "markdown",
   "id": "1bb23934",
   "metadata": {},
   "source": [
    "Stepwise metod"
   ]
  },
  {
   "cell_type": "code",
   "execution_count": 7,
   "id": "122b0906",
   "metadata": {},
   "outputs": [
    {
     "name": "stdout",
     "output_type": "stream",
     "text": [
      "[1, 0, 2]\n"
     ]
    }
   ],
   "source": [
    "def stepwise_subset_selection(X, y, significance_level_entry=0.05, significance_level_exit=0.1):\n",
    "    remaining_features = list(X.columns)\n",
    "    selected_features = []\n",
    "    \n",
    "    while len(remaining_features) > 0:\n",
    "        best_p_value = float('inf')\n",
    "        best_feature = None\n",
    "        current_model = sm.OLS(y, sm.add_constant(X[selected_features])).fit()\n",
    "        current_best_p_value = current_model.pvalues.max()\n",
    "        \n",
    "        for feature in remaining_features:\n",
    "            model_features = selected_features + [feature]\n",
    "            X_subset = X[model_features]\n",
    "            model = sm.OLS(y, sm.add_constant(X_subset)).fit()\n",
    "            p_value = model.pvalues[feature]\n",
    "            \n",
    "            if p_value < best_p_value:\n",
    "                best_p_value = p_value\n",
    "                best_feature = feature\n",
    "        \n",
    "        if best_p_value <= significance_level_entry:\n",
    "            selected_features.append(best_feature)\n",
    "            remaining_features.remove(best_feature)\n",
    "        elif current_best_p_value > significance_level_exit:\n",
    "            break\n",
    "        else:\n",
    "            break\n",
    "    \n",
    "    return selected_features\n",
    "\n",
    "selected_features = stepwise_subset_selection(X, y)\n",
    "print(selected_features)"
   ]
  },
  {
   "cell_type": "code",
   "execution_count": 8,
   "id": "a62daf56",
   "metadata": {},
   "outputs": [
    {
     "data": {
      "text/html": [
       "<table class=\"simpletable\">\n",
       "<caption>OLS Regression Results</caption>\n",
       "<tr>\n",
       "  <th>Dep. Variable:</th>            <td>0</td>        <th>  R-squared:         </th> <td>   0.989</td>\n",
       "</tr>\n",
       "<tr>\n",
       "  <th>Model:</th>                   <td>OLS</td>       <th>  Adj. R-squared:    </th> <td>   0.988</td>\n",
       "</tr>\n",
       "<tr>\n",
       "  <th>Method:</th>             <td>Least Squares</td>  <th>  F-statistic:       </th> <td>   2781.</td>\n",
       "</tr>\n",
       "<tr>\n",
       "  <th>Date:</th>             <td>Wed, 30 Aug 2023</td> <th>  Prob (F-statistic):</th> <td>3.80e-93</td>\n",
       "</tr>\n",
       "<tr>\n",
       "  <th>Time:</th>                 <td>18:25:11</td>     <th>  Log-Likelihood:    </th> <td>  82.143</td>\n",
       "</tr>\n",
       "<tr>\n",
       "  <th>No. Observations:</th>      <td>   100</td>      <th>  AIC:               </th> <td>  -156.3</td>\n",
       "</tr>\n",
       "<tr>\n",
       "  <th>Df Residuals:</th>          <td>    96</td>      <th>  BIC:               </th> <td>  -145.9</td>\n",
       "</tr>\n",
       "<tr>\n",
       "  <th>Df Model:</th>              <td>     3</td>      <th>                     </th>     <td> </td>   \n",
       "</tr>\n",
       "<tr>\n",
       "  <th>Covariance Type:</th>      <td>nonrobust</td>    <th>                     </th>     <td> </td>   \n",
       "</tr>\n",
       "</table>\n",
       "<table class=\"simpletable\">\n",
       "<tr>\n",
       "    <td></td>       <th>coef</th>     <th>std err</th>      <th>t</th>      <th>P>|t|</th>  <th>[0.025</th>    <th>0.975]</th>  \n",
       "</tr>\n",
       "<tr>\n",
       "  <th>const</th> <td>    0.0073</td> <td>    0.037</td> <td>    0.196</td> <td> 0.845</td> <td>   -0.066</td> <td>    0.081</td>\n",
       "</tr>\n",
       "<tr>\n",
       "  <th>1</th>     <td>    2.9618</td> <td>    0.037</td> <td>   79.956</td> <td> 0.000</td> <td>    2.888</td> <td>    3.035</td>\n",
       "</tr>\n",
       "<tr>\n",
       "  <th>0</th>     <td>    1.9767</td> <td>    0.038</td> <td>   52.057</td> <td> 0.000</td> <td>    1.901</td> <td>    2.052</td>\n",
       "</tr>\n",
       "<tr>\n",
       "  <th>2</th>     <td>    0.5472</td> <td>    0.038</td> <td>   14.329</td> <td> 0.000</td> <td>    0.471</td> <td>    0.623</td>\n",
       "</tr>\n",
       "</table>\n",
       "<table class=\"simpletable\">\n",
       "<tr>\n",
       "  <th>Omnibus:</th>       <td> 0.907</td> <th>  Durbin-Watson:     </th> <td>   1.867</td>\n",
       "</tr>\n",
       "<tr>\n",
       "  <th>Prob(Omnibus):</th> <td> 0.635</td> <th>  Jarque-Bera (JB):  </th> <td>   0.944</td>\n",
       "</tr>\n",
       "<tr>\n",
       "  <th>Skew:</th>          <td> 0.099</td> <th>  Prob(JB):          </th> <td>   0.624</td>\n",
       "</tr>\n",
       "<tr>\n",
       "  <th>Kurtosis:</th>      <td> 2.567</td> <th>  Cond. No.          </th> <td>    6.77</td>\n",
       "</tr>\n",
       "</table><br/><br/>Notes:<br/>[1] Standard Errors assume that the covariance matrix of the errors is correctly specified."
      ],
      "text/plain": [
       "<class 'statsmodels.iolib.summary.Summary'>\n",
       "\"\"\"\n",
       "                            OLS Regression Results                            \n",
       "==============================================================================\n",
       "Dep. Variable:                      0   R-squared:                       0.989\n",
       "Model:                            OLS   Adj. R-squared:                  0.988\n",
       "Method:                 Least Squares   F-statistic:                     2781.\n",
       "Date:                Wed, 30 Aug 2023   Prob (F-statistic):           3.80e-93\n",
       "Time:                        18:25:11   Log-Likelihood:                 82.143\n",
       "No. Observations:                 100   AIC:                            -156.3\n",
       "Df Residuals:                      96   BIC:                            -145.9\n",
       "Df Model:                           3                                         \n",
       "Covariance Type:            nonrobust                                         \n",
       "==============================================================================\n",
       "                 coef    std err          t      P>|t|      [0.025      0.975]\n",
       "------------------------------------------------------------------------------\n",
       "const          0.0073      0.037      0.196      0.845      -0.066       0.081\n",
       "1              2.9618      0.037     79.956      0.000       2.888       3.035\n",
       "0              1.9767      0.038     52.057      0.000       1.901       2.052\n",
       "2              0.5472      0.038     14.329      0.000       0.471       0.623\n",
       "==============================================================================\n",
       "Omnibus:                        0.907   Durbin-Watson:                   1.867\n",
       "Prob(Omnibus):                  0.635   Jarque-Bera (JB):                0.944\n",
       "Skew:                           0.099   Prob(JB):                        0.624\n",
       "Kurtosis:                       2.567   Cond. No.                         6.77\n",
       "==============================================================================\n",
       "\n",
       "Notes:\n",
       "[1] Standard Errors assume that the covariance matrix of the errors is correctly specified.\n",
       "\"\"\""
      ]
     },
     "execution_count": 8,
     "metadata": {},
     "output_type": "execute_result"
    }
   ],
   "source": [
    "model = sm.OLS(y, sm.add_constant(X[selected_features]))\n",
    "model.fit().summary()"
   ]
  },
  {
   "cell_type": "markdown",
   "id": "88823dae",
   "metadata": {},
   "source": [
    "Ridge Regression"
   ]
  },
  {
   "cell_type": "code",
   "execution_count": 152,
   "id": "6e7db0c6",
   "metadata": {},
   "outputs": [
    {
     "data": {
      "text/plain": [
       "(0.001, 0.012527252316030224)"
      ]
     },
     "execution_count": 152,
     "metadata": {},
     "output_type": "execute_result"
    }
   ],
   "source": [
    "def ridge_regression(X, y):\n",
    "    \n",
    "    parameters = {\"alpha\": [1e-15, 1e-10, 1e-8, 1e-4, 1e-3, 1e-2, 1, 5, 10, 20]}\n",
    "    ridge_regressor = GridSearchCV(Ridge(), parameters, scoring=\"neg_mean_squared_error\", cv=5)\n",
    "    ridge_regressor.fit(X, y)\n",
    "    \n",
    "    return ridge_regressor.best_params_[\"alpha\"],-ridge_regressor.best_score_\n",
    " \n",
    "    \n",
    "ridge_regression(X, y)"
   ]
  },
  {
   "cell_type": "markdown",
   "id": "3a7d1545",
   "metadata": {},
   "source": [
    "Lasso Regression"
   ]
  },
  {
   "cell_type": "code",
   "execution_count": 153,
   "id": "40d04155",
   "metadata": {},
   "outputs": [
    {
     "data": {
      "text/plain": [
       "(0.001, 0.012449274979383558)"
      ]
     },
     "execution_count": 153,
     "metadata": {},
     "output_type": "execute_result"
    }
   ],
   "source": [
    "def lasso_regression(X, y):\n",
    "    \n",
    "    parameters = {\"alpha\": [1e-15, 1e-10, 1e-8, 1e-4, 1e-3, 1e-2, 1, 5, 10, 20]}\n",
    "    lasso_regressor = GridSearchCV(Lasso(), parameters, scoring=\"neg_mean_squared_error\", cv=5)\n",
    "    lasso_regressor.fit(X, y)\n",
    "    \n",
    "    return lasso_regressor.best_params_[\"alpha\"], -lasso_regressor.best_score_\n",
    "\n",
    "lasso_regression(X,y)"
   ]
  },
  {
   "cell_type": "markdown",
   "id": "4941c24d",
   "metadata": {},
   "source": [
    "PCA"
   ]
  },
  {
   "cell_type": "code",
   "execution_count": 266,
   "id": "00cb24b8",
   "metadata": {},
   "outputs": [
    {
     "data": {
      "text/plain": [
       "[<mpl_toolkits.mplot3d.art3d.Line3D at 0x1a1c262b4f0>]"
      ]
     },
     "execution_count": 266,
     "metadata": {},
     "output_type": "execute_result"
    },
    {
     "data": {
      "image/png": "[encoded data removed]",
      "text/plain": [
       "<Figure size 600x380 with 1 Axes>"
      ]
     },
     "metadata": {},
     "output_type": "display_data"
    }
   ],
   "source": [
    "np.random.seed(4)\n",
    "m = 60\n",
    "w1, w2 = 0.1, 0.3\n",
    "noise = 0.1\n",
    "\n",
    "angles = np.random.rand(m) * 3 * np.pi / 2 - 0.5\n",
    "X = np.empty((m, 3))\n",
    "X[:, 0] = np.cos(angles) + np.sin(angles)/2 + noise * np.random.randn(m) / 2\n",
    "X[:, 1] = np.sin(angles) * 0.7 + noise * np.random.randn(m) / 2\n",
    "X[:, 2] = X[:, 0] * w1 + X[:, 1] * w2 + noise * np.random.randn(m)\n",
    "\n",
    "fig = plt.figure(figsize=(6, 3.8))\n",
    "ax = fig.add_subplot(111, projection=\"3d\")\n",
    "\n",
    "ax.plot(X[:, 0], X[:, 1], X[:, 2] , \"bo\")"
   ]
  },
  {
   "cell_type": "code",
   "execution_count": 264,
   "id": "6f2be338",
   "metadata": {},
   "outputs": [
    {
     "name": "stdout",
     "output_type": "stream",
     "text": [
      "Missed info 0.011195535570688975\n"
     ]
    },
    {
     "data": {
      "image/png": "[encoded data removed]",
      "text/plain": [
       "<Figure size 640x480 with 1 Axes>"
      ]
     },
     "metadata": {},
     "output_type": "display_data"
    }
   ],
   "source": [
    "from sklearn.decomposition import PCA\n",
    "\n",
    "pca = PCA(n_components = 2)\n",
    "X2D = pca.fit_transform(X)\n",
    "\n",
    "fig = plt.figure()\n",
    "ax = fig.add_subplot(111, aspect=\"equal\")\n",
    "\n",
    "ax.plot(X2D[:, 0], X2D[:, 1], \"k.\")\n",
    "\n",
    "print(\"Missed info\",1 - pca.explained_variance_ratio_.sum())"
   ]
  },
  {
   "cell_type": "code",
   "execution_count": 282,
   "id": "ad6db734",
   "metadata": {},
   "outputs": [
    {
     "name": "stdout",
     "output_type": "stream",
     "text": [
      "Missed info: 0.6190985084957091\n"
     ]
    },
    {
     "data": {
      "image/png": "[encoded data removed]",
      "text/plain": [
       "<Figure size 640x480 with 1 Axes>"
      ]
     },
     "metadata": {},
     "output_type": "display_data"
    }
   ],
   "source": [
    "pls = PLSRegression(n_components = 3)\n",
    "\n",
    "X2D = pls.fit_transform(X,X[:, 2])\n",
    "\n",
    "fig = plt.figure()\n",
    "ax = fig.add_subplot(111)\n",
    "\n",
    "ax.plot(X2D[0], X2D[1], \"k.\")\n",
    "\n",
    "info_retained = 1 - np.sum(np.square(X - pls.predict(X))) / np.sum(np.square(X))\n",
    "missed_info = 1 - info_retained\n",
    "\n",
    "print(\"Missed info:\", missed_info)"
   ]
  }
 ],
 "metadata": {
  "kernelspec": {
   "display_name": "Python 3 (ipykernel)",
   "language": "python",
   "name": "python3"
  },
  "language_info": {
   "codemirror_mode": {
    "name": "ipython",
    "version": 3
   },
   "file_extension": ".py",
   "mimetype": "text/x-python",
   "name": "python",
   "nbconvert_exporter": "python",
   "pygments_lexer": "ipython3",
   "version": "3.10.9"
  }
 },
 "nbformat": 4,
 "nbformat_minor": 5
}
