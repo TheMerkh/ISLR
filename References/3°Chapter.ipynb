{
 "cells": [
  {
   "cell_type": "code",
   "execution_count": 30,
   "id": "0859a557",
   "metadata": {},
   "outputs": [
    {
     "data": {
      "text/html": [
       "<div>\n",
       "<style scoped>\n",
       "    .dataframe tbody tr th:only-of-type {\n",
       "        vertical-align: middle;\n",
       "    }\n",
       "\n",
       "    .dataframe tbody tr th {\n",
       "        vertical-align: top;\n",
       "    }\n",
       "\n",
       "    .dataframe thead th {\n",
       "        text-align: right;\n",
       "    }\n",
       "</style>\n",
       "<table border=\"1\" class=\"dataframe\">\n",
       "  <thead>\n",
       "    <tr style=\"text-align: right;\">\n",
       "      <th></th>\n",
       "      <th>intercept</th>\n",
       "      <th>col_1</th>\n",
       "      <th>col_2</th>\n",
       "    </tr>\n",
       "  </thead>\n",
       "  <tbody>\n",
       "    <tr>\n",
       "      <th>0</th>\n",
       "      <td>1</td>\n",
       "      <td>1.3</td>\n",
       "      <td>9</td>\n",
       "    </tr>\n",
       "    <tr>\n",
       "      <th>1</th>\n",
       "      <td>1</td>\n",
       "      <td>2.0</td>\n",
       "      <td>7</td>\n",
       "    </tr>\n",
       "    <tr>\n",
       "      <th>2</th>\n",
       "      <td>1</td>\n",
       "      <td>1.7</td>\n",
       "      <td>5</td>\n",
       "    </tr>\n",
       "    <tr>\n",
       "      <th>3</th>\n",
       "      <td>1</td>\n",
       "      <td>1.5</td>\n",
       "      <td>14</td>\n",
       "    </tr>\n",
       "    <tr>\n",
       "      <th>4</th>\n",
       "      <td>1</td>\n",
       "      <td>1.6</td>\n",
       "      <td>15</td>\n",
       "    </tr>\n",
       "    <tr>\n",
       "      <th>5</th>\n",
       "      <td>1</td>\n",
       "      <td>1.2</td>\n",
       "      <td>12</td>\n",
       "    </tr>\n",
       "    <tr>\n",
       "      <th>6</th>\n",
       "      <td>1</td>\n",
       "      <td>1.6</td>\n",
       "      <td>6</td>\n",
       "    </tr>\n",
       "    <tr>\n",
       "      <th>7</th>\n",
       "      <td>1</td>\n",
       "      <td>1.4</td>\n",
       "      <td>10</td>\n",
       "    </tr>\n",
       "    <tr>\n",
       "      <th>8</th>\n",
       "      <td>1</td>\n",
       "      <td>1.0</td>\n",
       "      <td>15</td>\n",
       "    </tr>\n",
       "    <tr>\n",
       "      <th>9</th>\n",
       "      <td>1</td>\n",
       "      <td>1.1</td>\n",
       "      <td>21</td>\n",
       "    </tr>\n",
       "  </tbody>\n",
       "</table>\n",
       "</div>"
      ],
      "text/plain": [
       "   intercept  col_1  col_2\n",
       "0          1    1.3      9\n",
       "1          1    2.0      7\n",
       "2          1    1.7      5\n",
       "3          1    1.5     14\n",
       "4          1    1.6     15\n",
       "5          1    1.2     12\n",
       "6          1    1.6      6\n",
       "7          1    1.4     10\n",
       "8          1    1.0     15\n",
       "9          1    1.1     21"
      ]
     },
     "execution_count": 30,
     "metadata": {},
     "output_type": "execute_result"
    }
   ],
   "source": [
    "import pandas as pd\n",
    "import numpy as np\n",
    "import statsmodels.api as sm\n",
    "\n",
    "x = pd.DataFrame({ \"intercept\":[1,1,1,1,1,1,1,1,1,1],\n",
    "                   \"col_1\": [1.3, 2, 1.7, 1.5,1.6,1.2,1.6,1.4,1,1.1],\n",
    "                   \"col_2\": [9,7,5,14,15,12,6,10,15,21] })\n",
    "\n",
    "y= pd.DataFrame({\"col_3\":[10, 6, 5, 12,10,15,5,12,17,20]})\n",
    "\n",
    "x"
   ]
  },
  {
   "cell_type": "markdown",
   "id": "b70b9d1c",
   "metadata": {},
   "source": [
    "β' =(Xt * X)^(-1) * Xt * Y"
   ]
  },
  {
   "cell_type": "code",
   "execution_count": 32,
   "id": "b96f7805",
   "metadata": {},
   "outputs": [
    {
     "data": {
      "text/html": [
       "<div>\n",
       "<style scoped>\n",
       "    .dataframe tbody tr th:only-of-type {\n",
       "        vertical-align: middle;\n",
       "    }\n",
       "\n",
       "    .dataframe tbody tr th {\n",
       "        vertical-align: top;\n",
       "    }\n",
       "\n",
       "    .dataframe thead th {\n",
       "        text-align: right;\n",
       "    }\n",
       "</style>\n",
       "<table border=\"1\" class=\"dataframe\">\n",
       "  <thead>\n",
       "    <tr style=\"text-align: right;\">\n",
       "      <th></th>\n",
       "      <th>0</th>\n",
       "    </tr>\n",
       "  </thead>\n",
       "  <tbody>\n",
       "    <tr>\n",
       "      <th>0</th>\n",
       "      <td>16.406365</td>\n",
       "    </tr>\n",
       "    <tr>\n",
       "      <th>1</th>\n",
       "      <td>-8.247580</td>\n",
       "    </tr>\n",
       "    <tr>\n",
       "      <th>2</th>\n",
       "      <td>0.585101</td>\n",
       "    </tr>\n",
       "  </tbody>\n",
       "</table>\n",
       "</div>"
      ],
      "text/plain": [
       "           0\n",
       "0  16.406365\n",
       "1  -8.247580\n",
       "2   0.585101"
      ]
     },
     "execution_count": 32,
     "metadata": {},
     "output_type": "execute_result"
    }
   ],
   "source": [
    "#Xt\n",
    "\n",
    "xt= np.transpose(x)\n",
    "\n",
    "#(Xt * X)^(-1)\n",
    "\n",
    "xtx= np.linalg.inv(np.dot(xt,x))\n",
    "\n",
    "#Xt * Y\n",
    "\n",
    "xty= np.dot(xt,y)\n",
    "\n",
    "#β'\n",
    "\n",
    "b= np.dot(xtx,xty)\n",
    "\n",
    "pd.DataFrame(b)\n"
   ]
  },
  {
   "cell_type": "markdown",
   "id": "3f5f349c",
   "metadata": {},
   "source": [
    "Y-Y'=e\n",
    "\n",
    "SSE= sum((Y-Y'|)^(2))       MSE = SSE/k\n",
    "\n",
    "SSR= sum((Y'-Y'|)^(2))     MSR = SSR/(n-k-1)\n",
    "\n",
    "SST= sum((Y-Y|)^(2)) or SST=SSE+SSR\n",
    "\n",
    "R^2=SSR/SST\n",
    "\n",
    "R|^2= 1-(1-R^2)*((n-1)/(n-k-1))\n",
    "\n",
    "F= MSR/MSE"
   ]
  },
  {
   "cell_type": "code",
   "execution_count": 22,
   "id": "1ae2d119",
   "metadata": {},
   "outputs": [
    {
     "name": "stdout",
     "output_type": "stream",
     "text": [
      "47.91657429907891\n"
     ]
    }
   ],
   "source": [
    "df_res= (len(x)-(len(x.columns)-1))-1\n",
    "\n",
    "df_mod = len(x.columns)-1\n",
    "\n",
    "#Y'\n",
    "\n",
    "ypron = np.dot(x, b)[:, 0]\n",
    "\n",
    "ypron = pd.DataFrame({\"col_3\": ypron})\n",
    "\n",
    "#e\n",
    "\n",
    "e= y- ypron\n",
    "\n",
    "#SSE\n",
    "\n",
    "sse= (e**2).sum()\n",
    "\n",
    "#MSE\n",
    "\n",
    "mse = sse/df_res\n",
    "\n",
    "#SST\n",
    "\n",
    "sst= ((y-y.mean())**2).sum()\n",
    "\n",
    "#SSR\n",
    "\n",
    "ssr = sst-sse\n",
    "\n",
    "#MSR\n",
    "\n",
    "msr = ssr/df_mod\n",
    "\n",
    "#R^2\n",
    "\n",
    "r2=ssr/sst\n",
    "\n",
    "#R|^2\n",
    "\n",
    "aux = np.dot((1-r2),(df_mod/df_res))\n",
    "\n",
    "r2adj=1-aux\n",
    "\n",
    "#F\n",
    "\n",
    "f=msr[0]/mse[0]\n",
    "\n",
    "\n",
    "print(f)"
   ]
  },
  {
   "cell_type": "markdown",
   "id": "ec5b6ed5",
   "metadata": {},
   "source": [
    "var(b')=σ^(2) * [Xt * X] ^(-1)\n",
    "\n",
    "t =coef/std error"
   ]
  },
  {
   "cell_type": "code",
   "execution_count": 62,
   "id": "0c32c556",
   "metadata": {},
   "outputs": [
    {
     "name": "stdout",
     "output_type": "stream",
     "text": [
      "[[ 3.77765718]\n",
      " [-3.76086646]\n",
      " [ 4.36642462]]\n"
     ]
    },
    {
     "name": "stderr",
     "output_type": "stream",
     "text": [
      "C:\\Users\\daner\\AppData\\Local\\Temp\\ipykernel_8804\\3433379079.py:5: RuntimeWarning: invalid value encountered in sqrt\n",
      "  aux1 = np.sqrt(var_b)\n"
     ]
    }
   ],
   "source": [
    "var_b= np.dot(xtx,mse[0])\n",
    "\n",
    "#the diagonal is the standar error\n",
    "\n",
    "aux1 = np.sqrt(var_b)\n",
    "\n",
    "std_e = [[4.343],[2.193],[0.134]]\n",
    "\n",
    "#t\n",
    "\n",
    "t= b/std_e\n",
    "\n",
    "print(t)"
   ]
  },
  {
   "cell_type": "code",
   "execution_count": 135,
   "id": "1363e1a0",
   "metadata": {},
   "outputs": [
    {
     "name": "stdout",
     "output_type": "stream",
     "text": [
      "                            OLS Regression Results                            \n",
      "==============================================================================\n",
      "Dep. Variable:                  col_3   R-squared:                       0.932\n",
      "Model:                            OLS   Adj. R-squared:                  0.912\n",
      "Method:                 Least Squares   F-statistic:                     47.92\n",
      "Date:                Mon, 07 Aug 2023   Prob (F-statistic):           8.23e-05\n",
      "Time:                        21:38:16   Log-Likelihood:                -16.509\n",
      "No. Observations:                  10   AIC:                             39.02\n",
      "Df Residuals:                       7   BIC:                             39.92\n",
      "Df Model:                           2                                         \n",
      "Covariance Type:            nonrobust                                         \n",
      "==============================================================================\n",
      "                 coef    std err          t      P>|t|      [0.025      0.975]\n",
      "------------------------------------------------------------------------------\n",
      "intercept     16.4064      4.343      3.778      0.007       6.138      26.675\n",
      "col_1         -8.2476      2.196     -3.756      0.007     -13.440      -3.055\n",
      "col_2          0.5851      0.134      4.377      0.003       0.269       0.901\n",
      "==============================================================================\n",
      "Omnibus:                        0.493   Durbin-Watson:                   3.136\n",
      "Prob(Omnibus):                  0.782   Jarque-Bera (JB):                0.492\n",
      "Skew:                          -0.027   Prob(JB):                        0.782\n",
      "Kurtosis:                       1.914   Cond. No.                         126.\n",
      "==============================================================================\n",
      "\n",
      "Notes:\n",
      "[1] Standard Errors assume that the covariance matrix of the errors is correctly specified.\n"
     ]
    },
    {
     "name": "stderr",
     "output_type": "stream",
     "text": [
      "C:\\Users\\daner\\anaconda3\\lib\\site-packages\\scipy\\stats\\_stats_py.py:1736: UserWarning: kurtosistest only valid for n>=20 ... continuing anyway, n=10\n",
      "  warnings.warn(\"kurtosistest only valid for n>=20 ... continuing \"\n"
     ]
    }
   ],
   "source": [
    "#Or more symple\n",
    "\n",
    "model = sm.OLS(y, x).fit()\n",
    "\n",
    "print(model.summary())"
   ]
  },
  {
   "cell_type": "code",
   "execution_count": null,
   "id": "a3bfff2b",
   "metadata": {},
   "outputs": [],
   "source": []
  }
 ],
 "metadata": {
  "kernelspec": {
   "display_name": "Python 3 (ipykernel)",
   "language": "python",
   "name": "python3"
  },
  "language_info": {
   "codemirror_mode": {
    "name": "ipython",
    "version": 3
   },
   "file_extension": ".py",
   "mimetype": "text/x-python",
   "name": "python",
   "nbconvert_exporter": "python",
   "pygments_lexer": "ipython3",
   "version": "3.10.9"
  }
 },
 "nbformat": 4,
 "nbformat_minor": 5
}
