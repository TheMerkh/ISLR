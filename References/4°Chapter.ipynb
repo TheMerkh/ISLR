{
 "cells": [
  {
   "cell_type": "markdown",
   "id": "d72133d7",
   "metadata": {},
   "source": [
    "pi(X) = e^(β0+ΣβbX)/(1 + e^(β0+ΣβpX))\n",
    "\n",
    "odd = pi(X)/(1 − pi(X) = e^(β0+ΣβbX)\n",
    "\n",
    "log(odd) = β0 + ΣβpX."
   ]
  },
  {
   "cell_type": "code",
   "execution_count": 1,
   "id": "e840a9c8",
   "metadata": {},
   "outputs": [
    {
     "name": "stdout",
     "output_type": "stream",
     "text": [
      "                            OLS Regression Results                            \n",
      "==============================================================================\n",
      "Dep. Variable:                  col_3   R-squared:                       0.932\n",
      "Model:                            OLS   Adj. R-squared:                  0.912\n",
      "Method:                 Least Squares   F-statistic:                     47.92\n",
      "Date:                Mon, 14 Aug 2023   Prob (F-statistic):           8.23e-05\n",
      "Time:                        18:29:03   Log-Likelihood:                -16.509\n",
      "No. Observations:                  10   AIC:                             39.02\n",
      "Df Residuals:                       7   BIC:                             39.92\n",
      "Df Model:                           2                                         \n",
      "Covariance Type:            nonrobust                                         \n",
      "==============================================================================\n",
      "                 coef    std err          t      P>|t|      [0.025      0.975]\n",
      "------------------------------------------------------------------------------\n",
      "intercept     16.4064      4.343      3.778      0.007       6.138      26.675\n",
      "col_1         -8.2476      2.196     -3.756      0.007     -13.440      -3.055\n",
      "col_2          0.5851      0.134      4.377      0.003       0.269       0.901\n",
      "==============================================================================\n",
      "Omnibus:                        0.493   Durbin-Watson:                   3.136\n",
      "Prob(Omnibus):                  0.782   Jarque-Bera (JB):                0.492\n",
      "Skew:                          -0.027   Prob(JB):                        0.782\n",
      "Kurtosis:                       1.914   Cond. No.                         126.\n",
      "==============================================================================\n",
      "\n",
      "Notes:\n",
      "[1] Standard Errors assume that the covariance matrix of the errors is correctly specified.\n"
     ]
    },
    {
     "name": "stderr",
     "output_type": "stream",
     "text": [
      "C:\\Users\\daner\\anaconda3\\lib\\site-packages\\scipy\\stats\\_stats_py.py:1736: UserWarning: kurtosistest only valid for n>=20 ... continuing anyway, n=10\n",
      "  warnings.warn(\"kurtosistest only valid for n>=20 ... continuing \"\n"
     ]
    }
   ],
   "source": [
    "import pandas as pd\n",
    "import numpy as np\n",
    "import statsmodels.api as sm\n",
    "\n",
    "\n",
    "x = pd.DataFrame({ \"intercept\":[1,1,1,1,1,1,1,1,1,1],\n",
    "                   \"col_1\": [1.3, 2, 1.7, 1.5,1.6,1.2,1.6,1.4,1,1.1],\n",
    "                   \"col_2\": [9,7,5,14,15,12,6,10,15,21] })\n",
    "\n",
    "y= pd.DataFrame({\"col_3\":[10, 6, 5, 12,10,15,5,12,17,20]})\n",
    "\n",
    "\n",
    "model = sm.OLS(y, x).fit()\n",
    "\n",
    "print(model.summary())"
   ]
  },
  {
   "cell_type": "code",
   "execution_count": 51,
   "id": "596ec16c",
   "metadata": {},
   "outputs": [
    {
     "name": "stdout",
     "output_type": "stream",
     "text": [
      "0.9990253097486231\n"
     ]
    }
   ],
   "source": [
    "aux= [2,12]\n",
    "\n",
    "def xb_fun(coef, values):\n",
    "  \n",
    "    coef = np.array(coef)\n",
    "    values = np.array(values)\n",
    "    \n",
    "    xb = 0\n",
    "    \n",
    "    for i in range(len(coef)):\n",
    "        if i == 0:\n",
    "            \n",
    "            xb = xb + coef[i]\n",
    "            \n",
    "        else:\n",
    "            xb = xb + (coef[i]*values[i-1])\n",
    "            \n",
    "    return(xb)\n",
    "pi = np.exp(xb_fun(model.params,aux))/(1+np.exp(xb_fun(model.params,aux)))\n",
    "print(pi)"
   ]
  }
 ],
 "metadata": {
  "kernelspec": {
   "display_name": "Python 3 (ipykernel)",
   "language": "python",
   "name": "python3"
  },
  "language_info": {
   "codemirror_mode": {
    "name": "ipython",
    "version": 3
   },
   "file_extension": ".py",
   "mimetype": "text/x-python",
   "name": "python",
   "nbconvert_exporter": "python",
   "pygments_lexer": "ipython3",
   "version": "3.10.9"
  }
 },
 "nbformat": 4,
 "nbformat_minor": 5
}
