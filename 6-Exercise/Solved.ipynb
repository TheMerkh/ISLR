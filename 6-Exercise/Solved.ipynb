{
 "cells": [
  {
   "cell_type": "markdown",
   "id": "d49df7b8",
   "metadata": {},
   "source": [
    "Q: Using the summary() and glm() functions, determine the estimated standard errors for the coefficients associated with income and balance in a multiple logistic regression model that uses both predictors."
   ]
  },
  {
   "cell_type": "code",
   "execution_count": 69,
   "id": "f7f291ad",
   "metadata": {},
   "outputs": [],
   "source": [
    "import pandas as pd\n",
    "import numpy as np\n",
    "import statsmodels.api as sm\n",
    "import matplotlib.pyplot as plt\n",
    "from sklearn.linear_model import LogisticRegression\n",
    "from sklearn.utils import resample\n",
    "from scipy.stats import bootstrap\n",
    "\n",
    "df = pd.read_csv(\"Default.csv\")\n",
    "\n",
    "df = df.sample(frac=1, random_state=1)"
   ]
  },
  {
   "cell_type": "markdown",
   "id": "c22f205f",
   "metadata": {},
   "source": [
    "Q: Using the summary() and glm() functions, determine the estimated standard errors for the coefficients associated with income and balance in a multiple logistic regression model that uses both predictors."
   ]
  },
  {
   "cell_type": "code",
   "execution_count": 53,
   "id": "241d5457",
   "metadata": {},
   "outputs": [
    {
     "name": "stdout",
     "output_type": "stream",
     "text": [
      "Optimization terminated successfully.\n",
      "         Current function value: 0.078948\n",
      "         Iterations 10\n",
      "const      0.434772\n",
      "income     0.000005\n",
      "balance    0.000227\n",
      "dtype: float64\n"
     ]
    }
   ],
   "source": [
    "df[\"default\"] = df[\"default\"].replace({\"Yes\": 1, \"No\": 0})\n",
    "\n",
    "X = df[[\"income\", \"balance\"]]\n",
    "y = df[\"default\"]\n",
    "X = sm.add_constant(X) \n",
    "\n",
    "print(sm.Logit(y, X).fit().bse)"
   ]
  },
  {
   "cell_type": "markdown",
   "id": "bc7a6cb4",
   "metadata": {},
   "source": [
    "Q: Write a function, boot.fn(), that takes as input the Default data set as well as an index of the observations, and that outputs the coefficient estimates for income and balance in the multiple logistic regression model."
   ]
  },
  {
   "cell_type": "code",
   "execution_count": 24,
   "id": "7116b791",
   "metadata": {},
   "outputs": [
    {
     "name": "stdout",
     "output_type": "stream",
     "text": [
      "[2.08091984e-05 5.64710797e-03]\n"
     ]
    }
   ],
   "source": [
    "def boot_fn(data, index):\n",
    "    \n",
    "    model = LogisticRegression(fit_intercept=True)\n",
    "    model.fit(data[[\"income\", \"balance\"]].iloc[index], data[\"default\"].iloc[index])\n",
    "    return model.coef_.flatten()\n",
    "\n",
    "result = boot_fn(df, range(len(df)))\n",
    "print(result)"
   ]
  },
  {
   "cell_type": "markdown",
   "id": "10e25bda",
   "metadata": {},
   "source": [
    "Q: Use the boot() function together with your boot.fn() function to estimate the standard errors of the logistic regression coefficients for income and balance."
   ]
  },
  {
   "cell_type": "code",
   "execution_count": 92,
   "id": "8f791699",
   "metadata": {},
   "outputs": [
    {
     "name": "stdout",
     "output_type": "stream",
     "text": [
      "[3.71637878e-07 1.35188976e-05]\n"
     ]
    }
   ],
   "source": [
    "np.random.seed(2)\n",
    "n_iterations = 1000\n",
    "\n",
    "bootstrap_coefs = np.array([boot_fn(df, index=resample(np.arange(len(df)))) for _ in range(n_iterations)])\n",
    "\n",
    "data = (bootstrap_coefs,)\n",
    "\n",
    "res = bootstrap(data, np.std, confidence_level=0.9,random_state=rng)\n",
    "\n",
    "print(res.standard_error)"
   ]
  }
 ],
 "metadata": {
  "kernelspec": {
   "display_name": "Python 3 (ipykernel)",
   "language": "python",
   "name": "python3"
  },
  "language_info": {
   "codemirror_mode": {
    "name": "ipython",
    "version": 3
   },
   "file_extension": ".py",
   "mimetype": "text/x-python",
   "name": "python",
   "nbconvert_exporter": "python",
   "pygments_lexer": "ipython3",
   "version": "3.10.9"
  }
 },
 "nbformat": 4,
 "nbformat_minor": 5
}
